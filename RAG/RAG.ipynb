{
 "cells": [
  {
   "cell_type": "code",
   "execution_count": 8,
   "metadata": {},
   "outputs": [],
   "source": [
    "import dotenv\n",
    "from openai import AzureOpenAI\n",
    "import os\n",
    "import pandas as pd\n",
    "\n",
    "dotenv.load_dotenv()\n",
    "client = AzureOpenAI(\n",
    "    azure_endpoint= os.environ[\"AZURE_OPENAI_ENDPOINT\"],\n",
    "    api_key= os.environ[\"AZURE_OPENAI_API_KEY\"],\n",
    "    api_version = '2024-10-01-preview'\n",
    ")\n",
    "\n",
    "deployment = os.environ['AZURE_OPENAI_DEPLOYMENT']"
   ]
  },
  {
   "cell_type": "code",
   "execution_count": 9,
   "metadata": {},
   "outputs": [],
   "source": [
    "def split_text(text, max_length, min_length):\n",
    "    words = text.split()\n",
    "    chunks = []\n",
    "    current_chunk = []\n",
    "\n",
    "    for word in words:\n",
    "        current_chunk.append(word)\n",
    "        if len(' '.join(current_chunk)) < max_length and len(' '.join(current_chunk)) > min_length:\n",
    "            chunks.append(' '.join(current_chunk))\n",
    "            current_chunk = []\n",
    "    if current_chunk:\n",
    "        chunks.append(' '.join(current_chunk))\n",
    "\n",
    "    return chunks"
   ]
  },
  {
   "cell_type": "code",
   "execution_count": 10,
   "metadata": {},
   "outputs": [],
   "source": [
    "file_path = 'rag_file.txt'\n",
    "\n",
    "with open(file_path, 'r') as file:\n",
    "    file_content = file.read()\n",
    "text_list = split_text(file_content,1200,800)"
   ]
  },
  {
   "cell_type": "code",
   "execution_count": 11,
   "metadata": {},
   "outputs": [],
   "source": [
    "embeddings = []\n",
    "for items in text_list:\n",
    "\n",
    "    response = client.embeddings.create(\n",
    "        input = items,\n",
    "        model= \"text-embedding-ada-002\"\n",
    "    )\n",
    "    embeddings.append(response.data[0].embedding)"
   ]
  },
  {
   "cell_type": "code",
   "execution_count": 14,
   "metadata": {},
   "outputs": [],
   "source": [
    "\n",
    "rag_df = pd.DataFrame({\n",
    "    \"chunks\":text_list,\n",
    "    \"embedding\":embeddings\n",
    "})"
   ]
  },
  {
   "cell_type": "code",
   "execution_count": 15,
   "metadata": {},
   "outputs": [],
   "source": [
    "from sklearn.neighbors import NearestNeighbors\n",
    "\n",
    "embeddings = rag_df['embedding'].to_list()\n",
    "nbrs = NearestNeighbors(n_neighbors=5, algorithm='ball_tree').fit(embeddings)\n",
    "distances, indices = nbrs.kneighbors(embeddings)"
   ]
  },
  {
   "cell_type": "code",
   "execution_count": 21,
   "metadata": {},
   "outputs": [
    {
     "data": {
      "text/plain": [
       "ChatCompletionMessage(content=\"There are several changes that can be brought into the education system in India to address the challenges and improve its overall effectiveness. Here are some key changes that can be considered:\\n\\n1. Emphasis on skill development: The education system should focus on developing practical skills alongside academic knowledge. This can be achieved through vocational training programs, internships, and apprenticeships that provide students with real-world experience and prepare them for the job market.\\n\\n2. Integration of technology: Technology should be integrated into classrooms to enhance teaching and learning processes. This includes providing access to computers, internet connectivity, and digital learning resources. Teachers should also be trained to effectively use technology in their teaching methods.\\n\\n3. Modernizing curriculum: The curriculum should be updated to include relevant and contemporary subjects, such as coding, artificial intelligence, and critical thinking. It should also promote interdisciplinary learning, allowing students to explore multiple fields of study and develop a holistic understanding.\\n\\n4. Focus on creativity and critical thinking: The education system should encourage creativity, innovation, and critical thinking skills among students. This can be done through project-based learning, problem-solving activities, and encouraging students to ask questions and engage in discussions.\\n\\n5. Teacher training and professional development: Continuous training and professional development opportunities should be provided to teachers to enhance their teaching skills and keep them updated with the latest educational practices. This can improve the overall quality of teaching and ensure that students receive high-quality education.\\n\\n6. Addressing the digital divide: Steps should be taken to bridge the digital divide between urban and rural areas. This can include providing internet connectivity, computers, and other necessary infrastructure to schools in rural areas. Mobile-based learning solutions can also be explored to reach students in remote areas.\\n\\n7. Focus on mental health and well-being: The education system should prioritize the mental health and well-being of students. This can be done by incorporating mindfulness practices, counseling services, and creating a supportive and inclusive learning environment.\\n\\n8. Encouraging collaboration and teamwork: The education system should promote collaboration and teamwork among students through group projects, team-based activities, and extracurricular programs. This helps students develop interpersonal skills and prepares them for collaborative work environments.\\n\\n9. Reducing exam-centric approach: There should be a shift from a purely exam-centric approach to a more holistic evaluation system. Continuous assessment methods, such as project work, presentations, and practical exams, can be included to assess students' overall development and understanding of concepts.\\n\\n10. Strengthening infrastructure and resources: Investment should be made in improving the infrastructure and resources available in schools, especially in rural areas. This includes providing well-equipped classrooms, libraries, laboratories, and access to learning materials.\\n\\nImplementing these changes requires a collaborative effort from the government, educational institutions, teachers, parents, and other stakeholders. By addressing these areas, the education system in India can be transformed to better equip students for the challenges of the 21st century and create a more inclusive and effective learning environment.\", refusal=None, role='assistant', audio=None, function_call=None, tool_calls=None)"
      ]
     },
     "execution_count": 21,
     "metadata": {},
     "output_type": "execute_result"
    }
   ],
   "source": [
    "user_input = \"What all changes can be brought in the education system in the country?\"\n",
    "\n",
    "def chatbot(user_input):\n",
    "    response = client.embeddings.create(\n",
    "        input = user_input,\n",
    "        model= \"text-embedding-ada-002\"\n",
    "    )\n",
    "    query_vector = response.data[0].embedding\n",
    "\n",
    "    distances, indices = nbrs.kneighbors([query_vector])\n",
    "\n",
    "    history = []\n",
    "    for index in indices[0]:\n",
    "        history.append(rag_df['chunks'].iloc[index])\n",
    "\n",
    "    history.append(user_input)\n",
    "\n",
    "    messages=[\n",
    "        {\"role\": \"system\", \"content\": \"You are an AI assistant that helps with AI questions.\"},\n",
    "        {\"role\": \"user\", \"content\": \" \".join(history)}\n",
    "    ]\n",
    "\n",
    "    response = client.chat.completions.create(\n",
    "        model=\"gpt-35-turbo-16k\",\n",
    "        temperature=0.7,\n",
    "        max_tokens=800,\n",
    "        messages=messages\n",
    "    )\n",
    "\n",
    "    return response.choices[0].message\n",
    "\n",
    "chatbot(user_input)"
   ]
  }
 ],
 "metadata": {
  "kernelspec": {
   "display_name": "Python 3",
   "language": "python",
   "name": "python3"
  },
  "language_info": {
   "codemirror_mode": {
    "name": "ipython",
    "version": 3
   },
   "file_extension": ".py",
   "mimetype": "text/x-python",
   "name": "python",
   "nbconvert_exporter": "python",
   "pygments_lexer": "ipython3",
   "version": "3.12.4"
  }
 },
 "nbformat": 4,
 "nbformat_minor": 2
}
