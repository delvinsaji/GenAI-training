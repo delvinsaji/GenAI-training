{
 "cells": [
  {
   "cell_type": "code",
   "execution_count": 3,
   "metadata": {},
   "outputs": [],
   "source": [
    "import numpy as np\n",
    "import tensorflow as tf\n",
    "from tensorflow.keras.datasets import imdb\n",
    "from tensorflow.keras.preprocessing import sequence\n",
    "from tensorflow.keras.models import Sequential\n",
    "from tensorflow.keras.layers import Embedding,SimpleRNN,Dense"
   ]
  },
  {
   "cell_type": "code",
   "execution_count": 4,
   "metadata": {},
   "outputs": [
    {
     "name": "stdout",
     "output_type": "stream",
     "text": [
      "Downloading data from https://storage.googleapis.com/tensorflow/tf-keras-datasets/imdb.npz\n",
      "\u001b[1m17464789/17464789\u001b[0m \u001b[32m━━━━━━━━━━━━━━━━━━━━\u001b[0m\u001b[37m\u001b[0m \u001b[1m4s\u001b[0m 0us/step\n"
     ]
    }
   ],
   "source": [
    "max_features = 10000\n",
    "(X_train,y_train),(X_test,y_test) = imdb.load_data(num_words=max_features)"
   ]
  },
  {
   "cell_type": "code",
   "execution_count": 8,
   "metadata": {},
   "outputs": [
    {
     "data": {
      "text/plain": [
       "(25000,)"
      ]
     },
     "execution_count": 8,
     "metadata": {},
     "output_type": "execute_result"
    }
   ],
   "source": [
    "X_train.shape"
   ]
  },
  {
   "cell_type": "code",
   "execution_count": 11,
   "metadata": {},
   "outputs": [],
   "source": [
    "sample_review = X_train[0]\n",
    "sample_label = y_train[0]"
   ]
  },
  {
   "cell_type": "code",
   "execution_count": 14,
   "metadata": {},
   "outputs": [],
   "source": [
    "### Mapping of word index\n",
    "\n",
    "word_index = imdb.get_word_index()\n",
    "reverse_word_index = {value: key for key,value in word_index.items()}"
   ]
  },
  {
   "cell_type": "code",
   "execution_count": 17,
   "metadata": {},
   "outputs": [
    {
     "data": {
      "text/plain": [
       "\"? this film was just brilliant casting location scenery story direction everyone's really suited the part they played and you could just imagine being there robert ? is an amazing actor and now the same being director ? father came from the same scottish island as myself so i loved the fact there was a real connection with this film the witty remarks throughout the film were great it was just brilliant so much that i bought the film as soon as it was released for ? and would recommend it to everyone to watch and the fly fishing was amazing really cried at the end it was so sad and you know what they say if you cry at a film it must have been good and this definitely was also ? to the two little boy's that played the ? of norman and paul they were just brilliant children are often left out of the ? list i think because the stars that play them all grown up are such a big profile for the whole film but these children are amazing and should be praised for what they have done don't you think the whole story was so lovely because it was true and was someone's life after all that was shared with us all\""
      ]
     },
     "execution_count": 17,
     "metadata": {},
     "output_type": "execute_result"
    }
   ],
   "source": [
    "decoded_review = \" \".join([reverse_word_index.get(i - 3,'?') for i in sample_review])\n",
    "decoded_review"
   ]
  },
  {
   "cell_type": "code",
   "execution_count": 19,
   "metadata": {},
   "outputs": [],
   "source": [
    "max_len = 500\n",
    "X_train = sequence.pad_sequences(X_train,maxlen=max_len)\n",
    "X_test = sequence.pad_sequences(X_test,maxlen = max_len)"
   ]
  },
  {
   "cell_type": "code",
   "execution_count": 20,
   "metadata": {},
   "outputs": [
    {
     "name": "stderr",
     "output_type": "stream",
     "text": [
      "C:\\Users\\delvin.saji\\AppData\\Roaming\\Python\\Python312\\site-packages\\keras\\src\\layers\\core\\embedding.py:90: UserWarning: Argument `input_length` is deprecated. Just remove it.\n",
      "  warnings.warn(\n"
     ]
    }
   ],
   "source": [
    "model = Sequential()\n",
    "model.add(Embedding(max_features,128,input_length = max_len))\n",
    "model.add(SimpleRNN(128,activation='relu'))\n",
    "model.add(Dense(1,activation='sigmoid'))"
   ]
  },
  {
   "cell_type": "code",
   "execution_count": 24,
   "metadata": {},
   "outputs": [],
   "source": [
    "model.compile(optimizer = 'adam',loss = 'binary_crossentropy',metrics=['accuracy'])"
   ]
  },
  {
   "cell_type": "code",
   "execution_count": 21,
   "metadata": {},
   "outputs": [
    {
     "data": {
      "text/html": [
       "<pre style=\"white-space:pre;overflow-x:auto;line-height:normal;font-family:Menlo,'DejaVu Sans Mono',consolas,'Courier New',monospace\"><span style=\"font-weight: bold\">Model: \"sequential\"</span>\n",
       "</pre>\n"
      ],
      "text/plain": [
       "\u001b[1mModel: \"sequential\"\u001b[0m\n"
      ]
     },
     "metadata": {},
     "output_type": "display_data"
    },
    {
     "data": {
      "text/html": [
       "<pre style=\"white-space:pre;overflow-x:auto;line-height:normal;font-family:Menlo,'DejaVu Sans Mono',consolas,'Courier New',monospace\">┏━━━━━━━━━━━━━━━━━━━━━━━━━━━━━━━━━┳━━━━━━━━━━━━━━━━━━━━━━━━┳━━━━━━━━━━━━━━━┓\n",
       "┃<span style=\"font-weight: bold\"> Layer (type)                    </span>┃<span style=\"font-weight: bold\"> Output Shape           </span>┃<span style=\"font-weight: bold\">       Param # </span>┃\n",
       "┡━━━━━━━━━━━━━━━━━━━━━━━━━━━━━━━━━╇━━━━━━━━━━━━━━━━━━━━━━━━╇━━━━━━━━━━━━━━━┩\n",
       "│ embedding (<span style=\"color: #0087ff; text-decoration-color: #0087ff\">Embedding</span>)           │ ?                      │   <span style=\"color: #00af00; text-decoration-color: #00af00\">0</span> (unbuilt) │\n",
       "├─────────────────────────────────┼────────────────────────┼───────────────┤\n",
       "│ simple_rnn (<span style=\"color: #0087ff; text-decoration-color: #0087ff\">SimpleRNN</span>)          │ ?                      │   <span style=\"color: #00af00; text-decoration-color: #00af00\">0</span> (unbuilt) │\n",
       "├─────────────────────────────────┼────────────────────────┼───────────────┤\n",
       "│ dense (<span style=\"color: #0087ff; text-decoration-color: #0087ff\">Dense</span>)                   │ ?                      │   <span style=\"color: #00af00; text-decoration-color: #00af00\">0</span> (unbuilt) │\n",
       "└─────────────────────────────────┴────────────────────────┴───────────────┘\n",
       "</pre>\n"
      ],
      "text/plain": [
       "┏━━━━━━━━━━━━━━━━━━━━━━━━━━━━━━━━━┳━━━━━━━━━━━━━━━━━━━━━━━━┳━━━━━━━━━━━━━━━┓\n",
       "┃\u001b[1m \u001b[0m\u001b[1mLayer (type)                   \u001b[0m\u001b[1m \u001b[0m┃\u001b[1m \u001b[0m\u001b[1mOutput Shape          \u001b[0m\u001b[1m \u001b[0m┃\u001b[1m \u001b[0m\u001b[1m      Param #\u001b[0m\u001b[1m \u001b[0m┃\n",
       "┡━━━━━━━━━━━━━━━━━━━━━━━━━━━━━━━━━╇━━━━━━━━━━━━━━━━━━━━━━━━╇━━━━━━━━━━━━━━━┩\n",
       "│ embedding (\u001b[38;5;33mEmbedding\u001b[0m)           │ ?                      │   \u001b[38;5;34m0\u001b[0m (unbuilt) │\n",
       "├─────────────────────────────────┼────────────────────────┼───────────────┤\n",
       "│ simple_rnn (\u001b[38;5;33mSimpleRNN\u001b[0m)          │ ?                      │   \u001b[38;5;34m0\u001b[0m (unbuilt) │\n",
       "├─────────────────────────────────┼────────────────────────┼───────────────┤\n",
       "│ dense (\u001b[38;5;33mDense\u001b[0m)                   │ ?                      │   \u001b[38;5;34m0\u001b[0m (unbuilt) │\n",
       "└─────────────────────────────────┴────────────────────────┴───────────────┘\n"
      ]
     },
     "metadata": {},
     "output_type": "display_data"
    },
    {
     "data": {
      "text/html": [
       "<pre style=\"white-space:pre;overflow-x:auto;line-height:normal;font-family:Menlo,'DejaVu Sans Mono',consolas,'Courier New',monospace\"><span style=\"font-weight: bold\"> Total params: </span><span style=\"color: #00af00; text-decoration-color: #00af00\">0</span> (0.00 B)\n",
       "</pre>\n"
      ],
      "text/plain": [
       "\u001b[1m Total params: \u001b[0m\u001b[38;5;34m0\u001b[0m (0.00 B)\n"
      ]
     },
     "metadata": {},
     "output_type": "display_data"
    },
    {
     "data": {
      "text/html": [
       "<pre style=\"white-space:pre;overflow-x:auto;line-height:normal;font-family:Menlo,'DejaVu Sans Mono',consolas,'Courier New',monospace\"><span style=\"font-weight: bold\"> Trainable params: </span><span style=\"color: #00af00; text-decoration-color: #00af00\">0</span> (0.00 B)\n",
       "</pre>\n"
      ],
      "text/plain": [
       "\u001b[1m Trainable params: \u001b[0m\u001b[38;5;34m0\u001b[0m (0.00 B)\n"
      ]
     },
     "metadata": {},
     "output_type": "display_data"
    },
    {
     "data": {
      "text/html": [
       "<pre style=\"white-space:pre;overflow-x:auto;line-height:normal;font-family:Menlo,'DejaVu Sans Mono',consolas,'Courier New',monospace\"><span style=\"font-weight: bold\"> Non-trainable params: </span><span style=\"color: #00af00; text-decoration-color: #00af00\">0</span> (0.00 B)\n",
       "</pre>\n"
      ],
      "text/plain": [
       "\u001b[1m Non-trainable params: \u001b[0m\u001b[38;5;34m0\u001b[0m (0.00 B)\n"
      ]
     },
     "metadata": {},
     "output_type": "display_data"
    }
   ],
   "source": [
    "model.summary()"
   ]
  },
  {
   "cell_type": "code",
   "execution_count": 22,
   "metadata": {},
   "outputs": [],
   "source": [
    "##Create an instance of Earlystopping callback\n",
    "from tensorflow.keras.callbacks import EarlyStopping\n",
    "earlystopping = EarlyStopping(monitor = 'val_loss',patience=5,restore_best_weights=True)\n",
    "\n"
   ]
  },
  {
   "cell_type": "code",
   "execution_count": 25,
   "metadata": {},
   "outputs": [
    {
     "name": "stdout",
     "output_type": "stream",
     "text": [
      "Epoch 1/10\n",
      "\u001b[1m625/625\u001b[0m \u001b[32m━━━━━━━━━━━━━━━━━━━━\u001b[0m\u001b[37m\u001b[0m \u001b[1m103s\u001b[0m 161ms/step - accuracy: 0.5702 - loss: 29.2341 - val_accuracy: 0.6682 - val_loss: 0.5939\n",
      "Epoch 2/10\n",
      "\u001b[1m625/625\u001b[0m \u001b[32m━━━━━━━━━━━━━━━━━━━━\u001b[0m\u001b[37m\u001b[0m \u001b[1m92s\u001b[0m 147ms/step - accuracy: 0.6143 - loss: 18604086.0000 - val_accuracy: 0.6226 - val_loss: 0.6121\n",
      "Epoch 3/10\n",
      "\u001b[1m625/625\u001b[0m \u001b[32m━━━━━━━━━━━━━━━━━━━━\u001b[0m\u001b[37m\u001b[0m \u001b[1m102s\u001b[0m 163ms/step - accuracy: 0.6828 - loss: 5.4214 - val_accuracy: 0.6894 - val_loss: 0.5811\n",
      "Epoch 4/10\n",
      "\u001b[1m625/625\u001b[0m \u001b[32m━━━━━━━━━━━━━━━━━━━━\u001b[0m\u001b[37m\u001b[0m \u001b[1m78s\u001b[0m 125ms/step - accuracy: 0.7798 - loss: 0.5226 - val_accuracy: 0.6850 - val_loss: 0.6195\n",
      "Epoch 5/10\n",
      "\u001b[1m625/625\u001b[0m \u001b[32m━━━━━━━━━━━━━━━━━━━━\u001b[0m\u001b[37m\u001b[0m \u001b[1m101s\u001b[0m 161ms/step - accuracy: 0.8013 - loss: 0.4852 - val_accuracy: 0.7270 - val_loss: 0.5318\n",
      "Epoch 6/10\n",
      "\u001b[1m625/625\u001b[0m \u001b[32m━━━━━━━━━━━━━━━━━━━━\u001b[0m\u001b[37m\u001b[0m \u001b[1m85s\u001b[0m 137ms/step - accuracy: 0.8381 - loss: 0.4053 - val_accuracy: 0.7300 - val_loss: 0.5327\n",
      "Epoch 7/10\n",
      "\u001b[1m625/625\u001b[0m \u001b[32m━━━━━━━━━━━━━━━━━━━━\u001b[0m\u001b[37m\u001b[0m \u001b[1m95s\u001b[0m 152ms/step - accuracy: 0.8588 - loss: 0.3698 - val_accuracy: 0.7318 - val_loss: 0.5399\n",
      "Epoch 8/10\n",
      "\u001b[1m625/625\u001b[0m \u001b[32m━━━━━━━━━━━━━━━━━━━━\u001b[0m\u001b[37m\u001b[0m \u001b[1m90s\u001b[0m 143ms/step - accuracy: 0.8792 - loss: 0.3151 - val_accuracy: 0.7388 - val_loss: 0.5374\n",
      "Epoch 9/10\n",
      "\u001b[1m625/625\u001b[0m \u001b[32m━━━━━━━━━━━━━━━━━━━━\u001b[0m\u001b[37m\u001b[0m \u001b[1m94s\u001b[0m 151ms/step - accuracy: 0.8938 - loss: 0.2728 - val_accuracy: 0.7530 - val_loss: 0.5690\n",
      "Epoch 10/10\n",
      "\u001b[1m625/625\u001b[0m \u001b[32m━━━━━━━━━━━━━━━━━━━━\u001b[0m\u001b[37m\u001b[0m \u001b[1m83s\u001b[0m 133ms/step - accuracy: 0.9064 - loss: 0.2297 - val_accuracy: 0.7582 - val_loss: 0.5541\n"
     ]
    }
   ],
   "source": [
    "history = model.fit(\n",
    "    X_train,y_train,epochs=10,batch_size=32,\n",
    "    validation_split=0.2,\n",
    "    callbacks = [earlystopping]\n",
    ")"
   ]
  },
  {
   "cell_type": "code",
   "execution_count": 26,
   "metadata": {},
   "outputs": [
    {
     "name": "stderr",
     "output_type": "stream",
     "text": [
      "WARNING:absl:You are saving your model as an HDF5 file via `model.save()` or `keras.saving.save_model(model)`. This file format is considered legacy. We recommend using instead the native Keras format, e.g. `model.save('my_model.keras')` or `keras.saving.save_model(model, 'my_model.keras')`. \n"
     ]
    }
   ],
   "source": [
    "model.save(\"simple_rnn_imdb.h5\")"
   ]
  },
  {
   "cell_type": "code",
   "execution_count": 27,
   "metadata": {},
   "outputs": [
    {
     "data": {
      "text/plain": [
       "[array([[-0.00952018,  0.88976926,  0.6762596 , ...,  0.77942306,\n",
       "         -0.8679807 , -0.48768097],\n",
       "        [-0.0561316 ,  0.0166049 , -0.00648898, ..., -0.0042368 ,\n",
       "         -0.041527  , -0.01864111],\n",
       "        [ 0.03013837,  0.11788962,  0.00945302, ...,  0.11035541,\n",
       "          0.00598122, -0.02669529],\n",
       "        ...,\n",
       "        [ 0.01355537,  0.06774712, -0.07057194, ..., -0.03509233,\n",
       "         -0.05628664,  0.01456817],\n",
       "        [ 0.01333306, -0.04611435,  0.12187573, ...,  0.10260385,\n",
       "          0.04747925, -0.13376935],\n",
       "        [-0.00316709,  0.04115424, -0.04519212, ..., -0.06389958,\n",
       "         -0.02451635,  0.01128237]], dtype=float32),\n",
       " array([[ 0.06025181,  0.0046912 , -0.04073876, ...,  0.01911215,\n",
       "         -0.12409576, -0.1304791 ],\n",
       "        [ 0.08946153, -0.1202051 , -0.10575014, ..., -0.10535233,\n",
       "         -0.07213189, -0.12053496],\n",
       "        [ 0.10886361,  0.00957459, -0.00060956, ..., -0.0222485 ,\n",
       "         -0.07331068, -0.00171986],\n",
       "        ...,\n",
       "        [ 0.02083185, -0.06759978, -0.10178905, ...,  0.03319152,\n",
       "          0.1830079 , -0.04357236],\n",
       "        [-0.08075108,  0.04716712, -0.05714768, ..., -0.06953975,\n",
       "          0.09599288,  0.03181363],\n",
       "        [-0.06937394,  0.18847984, -0.1594343 , ...,  0.00493512,\n",
       "         -0.03047251,  0.06784312]], dtype=float32),\n",
       " array([[-0.05630363,  0.02185856,  0.01354518, ..., -0.14338231,\n",
       "         -0.04573366, -0.04111624],\n",
       "        [ 0.02908323,  0.06869464, -0.05013271, ...,  0.16246468,\n",
       "          0.07474357,  0.09600404],\n",
       "        [ 0.02792114, -0.05775237, -0.25203928, ..., -0.1341205 ,\n",
       "          0.04992657, -0.1907035 ],\n",
       "        ...,\n",
       "        [ 0.13792509,  0.05669025,  0.0498536 , ...,  0.02938684,\n",
       "          0.10456331, -0.0809912 ],\n",
       "        [ 0.02178795,  0.07810972,  0.02617743, ..., -0.03340079,\n",
       "         -0.19261773,  0.10117466],\n",
       "        [-0.10715383,  0.05095111, -0.05288879, ...,  0.18703732,\n",
       "          0.01731092, -0.14442778]], dtype=float32),\n",
       " array([-0.03951376,  0.03250198, -0.01830787, -0.0184319 ,  0.03145156,\n",
       "        -0.05579592,  0.0421929 ,  0.01035745, -0.05139718,  0.02747578,\n",
       "        -0.00726529, -0.04574445,  0.02258451, -0.02757694, -0.01549836,\n",
       "         0.02690883, -0.02514652,  0.02466185, -0.03126101, -0.03313491,\n",
       "        -0.02569707, -0.0030457 , -0.01586729, -0.03759674, -0.0681162 ,\n",
       "         0.02740894, -0.04516913, -0.03850811, -0.04740113, -0.04191296,\n",
       "        -0.06908874,  0.01237152, -0.08515748,  0.0276139 , -0.00767687,\n",
       "        -0.01895281, -0.04084967,  0.00390388, -0.03524034, -0.04566563,\n",
       "        -0.03906724, -0.03460482,  0.01862209, -0.07510498, -0.00403534,\n",
       "        -0.04164128, -0.03241273,  0.01682467, -0.00060202,  0.02513072,\n",
       "         0.05452767, -0.02333756, -0.03344679, -0.03988626, -0.01423817,\n",
       "        -0.02629418, -0.0380076 , -0.03937048, -0.01787895,  0.00217333,\n",
       "        -0.04369492, -0.04984102, -0.04071729,  0.00935444,  0.00570285,\n",
       "        -0.02683106, -0.02960352, -0.03861971, -0.00983013,  0.00684702,\n",
       "        -0.01032591, -0.06185031, -0.04561956, -0.0673566 ,  0.01053988,\n",
       "        -0.02705021,  0.09011327, -0.07008455, -0.06439631, -0.03085769,\n",
       "        -0.01051106, -0.0533462 , -0.01308493, -0.019979  , -0.03041341,\n",
       "        -0.02424304, -0.00428578, -0.06800264, -0.03674395, -0.02898361,\n",
       "         0.0077358 , -0.05826334,  0.02620402, -0.04793237, -0.00177556,\n",
       "         0.01601228, -0.00303892,  0.00208305, -0.03540763,  0.01193626,\n",
       "        -0.05492277, -0.04472367, -0.03966111, -0.02529208, -0.01297204,\n",
       "         0.0040443 , -0.04559988,  0.02265747,  0.00993397,  0.00720971,\n",
       "        -0.06278592, -0.01310124, -0.08071435,  0.01591148, -0.05550017,\n",
       "        -0.01525525, -0.04456918,  0.05357916, -0.02837284, -0.00716178,\n",
       "        -0.00947154,  0.0016977 , -0.00727886, -0.01261345, -0.05348186,\n",
       "        -0.06230243, -0.01575336, -0.04568816], dtype=float32),\n",
       " array([[-1.24038704e-01],\n",
       "        [-4.07530665e-02],\n",
       "        [-5.48385754e-02],\n",
       "        [-1.78572714e-01],\n",
       "        [-1.40278250e-01],\n",
       "        [ 4.60426360e-02],\n",
       "        [ 1.73490569e-01],\n",
       "        [ 1.31696820e-01],\n",
       "        [-6.26157001e-02],\n",
       "        [-5.42744398e-02],\n",
       "        [-1.35134622e-01],\n",
       "        [-6.33868426e-02],\n",
       "        [ 7.32158348e-02],\n",
       "        [ 2.12319158e-02],\n",
       "        [-1.30424485e-01],\n",
       "        [-6.80375844e-02],\n",
       "        [ 1.00950524e-01],\n",
       "        [ 3.21244746e-02],\n",
       "        [ 3.37525494e-02],\n",
       "        [ 5.67447916e-02],\n",
       "        [ 5.21625765e-02],\n",
       "        [ 2.00662479e-01],\n",
       "        [-9.68672521e-03],\n",
       "        [-1.66820064e-01],\n",
       "        [-1.20057464e-02],\n",
       "        [ 2.77453419e-02],\n",
       "        [ 1.27439225e+00],\n",
       "        [-1.84346959e-01],\n",
       "        [-2.04388902e-01],\n",
       "        [-1.75156832e-01],\n",
       "        [ 1.35950193e-01],\n",
       "        [ 6.88197851e-01],\n",
       "        [ 1.52851954e-01],\n",
       "        [-1.92746252e-01],\n",
       "        [ 1.29211143e-01],\n",
       "        [-1.53256670e-01],\n",
       "        [-2.01798484e-01],\n",
       "        [-1.76210433e-01],\n",
       "        [-1.67099401e-01],\n",
       "        [-1.78325072e-01],\n",
       "        [ 3.78318317e-02],\n",
       "        [ 4.82798461e-03],\n",
       "        [-2.11490363e-01],\n",
       "        [ 1.41527355e-01],\n",
       "        [-2.63643023e-02],\n",
       "        [-1.85794592e-01],\n",
       "        [ 1.40971169e-01],\n",
       "        [ 1.54644057e-01],\n",
       "        [ 2.81367093e-01],\n",
       "        [-1.42882187e-02],\n",
       "        [-2.22632542e-01],\n",
       "        [ 5.17142639e-02],\n",
       "        [-2.48763084e-01],\n",
       "        [ 1.35187596e-01],\n",
       "        [ 1.39296845e-01],\n",
       "        [-1.03666205e-02],\n",
       "        [-1.66470960e-01],\n",
       "        [ 7.34798517e-03],\n",
       "        [ 3.13292950e-01],\n",
       "        [-1.80129230e-01],\n",
       "        [ 1.67669892e-01],\n",
       "        [-1.89073518e-01],\n",
       "        [-2.27089375e-01],\n",
       "        [ 1.02272615e-01],\n",
       "        [-1.65613562e-01],\n",
       "        [-2.67970443e-01],\n",
       "        [-2.51948893e-01],\n",
       "        [-1.65808527e-03],\n",
       "        [-2.50892062e-02],\n",
       "        [-7.40031898e-02],\n",
       "        [-6.42639548e-02],\n",
       "        [ 2.33967960e-01],\n",
       "        [-2.08530068e-01],\n",
       "        [ 4.40838188e-02],\n",
       "        [ 6.63199350e-02],\n",
       "        [-1.97451919e-01],\n",
       "        [-3.08713228e-01],\n",
       "        [-2.68640339e-01],\n",
       "        [ 4.20353562e-01],\n",
       "        [ 1.00630283e-01],\n",
       "        [ 1.80254020e-02],\n",
       "        [-1.99697793e-01],\n",
       "        [ 3.26791145e-02],\n",
       "        [ 1.55292630e-01],\n",
       "        [-1.50287673e-01],\n",
       "        [-1.00162484e-01],\n",
       "        [-2.12816536e-01],\n",
       "        [ 4.27107126e-01],\n",
       "        [ 1.25350416e-01],\n",
       "        [ 8.22193995e-02],\n",
       "        [-1.29078224e-01],\n",
       "        [-1.50113508e-01],\n",
       "        [ 4.73901890e-02],\n",
       "        [ 1.96338058e-01],\n",
       "        [-4.95290570e-02],\n",
       "        [ 1.34518057e-01],\n",
       "        [ 5.94718731e-04],\n",
       "        [-2.00571269e-01],\n",
       "        [-4.78837527e-02],\n",
       "        [ 7.99269453e-02],\n",
       "        [-1.13744512e-01],\n",
       "        [-1.01985484e-01],\n",
       "        [-3.32757264e-01],\n",
       "        [-1.16466120e-01],\n",
       "        [-6.90362230e-02],\n",
       "        [-1.74915031e-01],\n",
       "        [ 1.96368366e-01],\n",
       "        [ 1.31435886e-01],\n",
       "        [ 9.81940255e-02],\n",
       "        [-6.76666796e-02],\n",
       "        [-2.57022917e-01],\n",
       "        [ 3.29475626e-02],\n",
       "        [ 2.18769282e-01],\n",
       "        [-6.78854808e-02],\n",
       "        [-3.35857868e-02],\n",
       "        [-1.18131399e-01],\n",
       "        [ 2.03647137e-01],\n",
       "        [-1.02561332e-01],\n",
       "        [ 3.89640545e-03],\n",
       "        [ 1.47922918e-01],\n",
       "        [ 1.38069674e-01],\n",
       "        [ 1.58843920e-02],\n",
       "        [ 6.66260952e-03],\n",
       "        [-5.36052743e-03],\n",
       "        [-9.73144174e-02],\n",
       "        [ 9.22710449e-03],\n",
       "        [ 1.26362815e-01],\n",
       "        [-3.68073210e-02]], dtype=float32),\n",
       " array([0.915737], dtype=float32)]"
      ]
     },
     "execution_count": 27,
     "metadata": {},
     "output_type": "execute_result"
    }
   ],
   "source": [
    "model.get_weights()"
   ]
  },
  {
   "cell_type": "code",
   "execution_count": 28,
   "metadata": {},
   "outputs": [],
   "source": [
    "def decode_review(encoded_review):\n",
    "    return ' '.join([reverse_word_index.get(i - 3,' ?') for i in encoded_review])\n",
    "\n",
    "def preprocess_text(text):\n",
    "    words = text.lower().split()\n",
    "    encoded_review = [word_index.get(word,2) + 3 for word in words]\n",
    "    padded_review = sequence.pad_sequences([encoded_review],maxlen=500)\n",
    "    return padded_review"
   ]
  },
  {
   "cell_type": "code",
   "execution_count": 29,
   "metadata": {},
   "outputs": [],
   "source": [
    "##Prediction function\n",
    "\n",
    "def predict_sentiment(review):\n",
    "    preprocessed_input = preprocess_text(review)\n",
    "    prediction = model.predict(preprocessed_input)\n",
    "    sentiment = \"Positive\" if prediction[0][0] > 0.5 else \"Negative\"\n",
    "    return sentiment, prediction[0][0]\n"
   ]
  },
  {
   "cell_type": "code",
   "execution_count": 32,
   "metadata": {},
   "outputs": [
    {
     "name": "stdout",
     "output_type": "stream",
     "text": [
      "\u001b[1m1/1\u001b[0m \u001b[32m━━━━━━━━━━━━━━━━━━━━\u001b[0m\u001b[37m\u001b[0m \u001b[1m0s\u001b[0m 44ms/step\n"
     ]
    }
   ],
   "source": [
    "example_review = \"This movie was fantastice! The acting was great and the plot was thrilling\"\n",
    "\n",
    "sentiment,score = predict_sentiment(example_review)\n"
   ]
  },
  {
   "cell_type": "code",
   "execution_count": 33,
   "metadata": {},
   "outputs": [
    {
     "data": {
      "text/plain": [
       "'Negative'"
      ]
     },
     "execution_count": 33,
     "metadata": {},
     "output_type": "execute_result"
    }
   ],
   "source": [
    "sentiment"
   ]
  },
  {
   "cell_type": "code",
   "execution_count": null,
   "metadata": {},
   "outputs": [],
   "source": []
  }
 ],
 "metadata": {
  "kernelspec": {
   "display_name": "Python 3",
   "language": "python",
   "name": "python3"
  },
  "language_info": {
   "codemirror_mode": {
    "name": "ipython",
    "version": 3
   },
   "file_extension": ".py",
   "mimetype": "text/x-python",
   "name": "python",
   "nbconvert_exporter": "python",
   "pygments_lexer": "ipython3",
   "version": "3.12.4"
  }
 },
 "nbformat": 4,
 "nbformat_minor": 2
}
