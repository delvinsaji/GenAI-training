{
  "nbformat": 4,
  "nbformat_minor": 0,
  "metadata": {
    "colab": {
      "provenance": []
    },
    "kernelspec": {
      "name": "python3",
      "display_name": "Python 3"
    },
    "language_info": {
      "name": "python"
    },
    "widgets": {
      "application/vnd.jupyter.widget-state+json": {
        "45ec002008804368ac02ec4c86fddf48": {
          "model_module": "@jupyter-widgets/controls",
          "model_name": "HBoxModel",
          "model_module_version": "1.5.0",
          "state": {
            "_dom_classes": [],
            "_model_module": "@jupyter-widgets/controls",
            "_model_module_version": "1.5.0",
            "_model_name": "HBoxModel",
            "_view_count": null,
            "_view_module": "@jupyter-widgets/controls",
            "_view_module_version": "1.5.0",
            "_view_name": "HBoxView",
            "box_style": "",
            "children": [
              "IPY_MODEL_4e6acb7190dd49028625082ed4622a74",
              "IPY_MODEL_c3d0f37c63ce49239959c22cc3547b3d",
              "IPY_MODEL_f7104aa367b84346914b616f6629d137"
            ],
            "layout": "IPY_MODEL_7deacd5965454bc7ab12c036ef280dee"
          }
        },
        "4e6acb7190dd49028625082ed4622a74": {
          "model_module": "@jupyter-widgets/controls",
          "model_name": "HTMLModel",
          "model_module_version": "1.5.0",
          "state": {
            "_dom_classes": [],
            "_model_module": "@jupyter-widgets/controls",
            "_model_module_version": "1.5.0",
            "_model_name": "HTMLModel",
            "_view_count": null,
            "_view_module": "@jupyter-widgets/controls",
            "_view_module_version": "1.5.0",
            "_view_name": "HTMLView",
            "description": "",
            "description_tooltip": null,
            "layout": "IPY_MODEL_0a31e1a805364fa2b0a35499fb2af57d",
            "placeholder": "​",
            "style": "IPY_MODEL_32dc3394725b4c3fa3f91f901c89a95d",
            "value": "  0%"
          }
        },
        "c3d0f37c63ce49239959c22cc3547b3d": {
          "model_module": "@jupyter-widgets/controls",
          "model_name": "FloatProgressModel",
          "model_module_version": "1.5.0",
          "state": {
            "_dom_classes": [],
            "_model_module": "@jupyter-widgets/controls",
            "_model_module_version": "1.5.0",
            "_model_name": "FloatProgressModel",
            "_view_count": null,
            "_view_module": "@jupyter-widgets/controls",
            "_view_module_version": "1.5.0",
            "_view_name": "ProgressView",
            "bar_style": "danger",
            "description": "",
            "description_tooltip": null,
            "layout": "IPY_MODEL_7289601f73e342059f0244b85edb3f09",
            "max": 1,
            "min": 0,
            "orientation": "horizontal",
            "style": "IPY_MODEL_f89339150df442a59f56af127b31712e",
            "value": 0
          }
        },
        "f7104aa367b84346914b616f6629d137": {
          "model_module": "@jupyter-widgets/controls",
          "model_name": "HTMLModel",
          "model_module_version": "1.5.0",
          "state": {
            "_dom_classes": [],
            "_model_module": "@jupyter-widgets/controls",
            "_model_module_version": "1.5.0",
            "_model_name": "HTMLModel",
            "_view_count": null,
            "_view_module": "@jupyter-widgets/controls",
            "_view_module_version": "1.5.0",
            "_view_name": "HTMLView",
            "description": "",
            "description_tooltip": null,
            "layout": "IPY_MODEL_d3b3438c1854447f94079367fbd53f55",
            "placeholder": "​",
            "style": "IPY_MODEL_9e4365f94610488faedb8943253a4383",
            "value": " 0/1 [00:00&lt;?, ?it/s]"
          }
        },
        "7deacd5965454bc7ab12c036ef280dee": {
          "model_module": "@jupyter-widgets/base",
          "model_name": "LayoutModel",
          "model_module_version": "1.2.0",
          "state": {
            "_model_module": "@jupyter-widgets/base",
            "_model_module_version": "1.2.0",
            "_model_name": "LayoutModel",
            "_view_count": null,
            "_view_module": "@jupyter-widgets/base",
            "_view_module_version": "1.2.0",
            "_view_name": "LayoutView",
            "align_content": null,
            "align_items": null,
            "align_self": null,
            "border": null,
            "bottom": null,
            "display": null,
            "flex": null,
            "flex_flow": null,
            "grid_area": null,
            "grid_auto_columns": null,
            "grid_auto_flow": null,
            "grid_auto_rows": null,
            "grid_column": null,
            "grid_gap": null,
            "grid_row": null,
            "grid_template_areas": null,
            "grid_template_columns": null,
            "grid_template_rows": null,
            "height": null,
            "justify_content": null,
            "justify_items": null,
            "left": null,
            "margin": null,
            "max_height": null,
            "max_width": null,
            "min_height": null,
            "min_width": null,
            "object_fit": null,
            "object_position": null,
            "order": null,
            "overflow": null,
            "overflow_x": null,
            "overflow_y": null,
            "padding": null,
            "right": null,
            "top": null,
            "visibility": null,
            "width": null
          }
        },
        "0a31e1a805364fa2b0a35499fb2af57d": {
          "model_module": "@jupyter-widgets/base",
          "model_name": "LayoutModel",
          "model_module_version": "1.2.0",
          "state": {
            "_model_module": "@jupyter-widgets/base",
            "_model_module_version": "1.2.0",
            "_model_name": "LayoutModel",
            "_view_count": null,
            "_view_module": "@jupyter-widgets/base",
            "_view_module_version": "1.2.0",
            "_view_name": "LayoutView",
            "align_content": null,
            "align_items": null,
            "align_self": null,
            "border": null,
            "bottom": null,
            "display": null,
            "flex": null,
            "flex_flow": null,
            "grid_area": null,
            "grid_auto_columns": null,
            "grid_auto_flow": null,
            "grid_auto_rows": null,
            "grid_column": null,
            "grid_gap": null,
            "grid_row": null,
            "grid_template_areas": null,
            "grid_template_columns": null,
            "grid_template_rows": null,
            "height": null,
            "justify_content": null,
            "justify_items": null,
            "left": null,
            "margin": null,
            "max_height": null,
            "max_width": null,
            "min_height": null,
            "min_width": null,
            "object_fit": null,
            "object_position": null,
            "order": null,
            "overflow": null,
            "overflow_x": null,
            "overflow_y": null,
            "padding": null,
            "right": null,
            "top": null,
            "visibility": null,
            "width": null
          }
        },
        "32dc3394725b4c3fa3f91f901c89a95d": {
          "model_module": "@jupyter-widgets/controls",
          "model_name": "DescriptionStyleModel",
          "model_module_version": "1.5.0",
          "state": {
            "_model_module": "@jupyter-widgets/controls",
            "_model_module_version": "1.5.0",
            "_model_name": "DescriptionStyleModel",
            "_view_count": null,
            "_view_module": "@jupyter-widgets/base",
            "_view_module_version": "1.2.0",
            "_view_name": "StyleView",
            "description_width": ""
          }
        },
        "7289601f73e342059f0244b85edb3f09": {
          "model_module": "@jupyter-widgets/base",
          "model_name": "LayoutModel",
          "model_module_version": "1.2.0",
          "state": {
            "_model_module": "@jupyter-widgets/base",
            "_model_module_version": "1.2.0",
            "_model_name": "LayoutModel",
            "_view_count": null,
            "_view_module": "@jupyter-widgets/base",
            "_view_module_version": "1.2.0",
            "_view_name": "LayoutView",
            "align_content": null,
            "align_items": null,
            "align_self": null,
            "border": null,
            "bottom": null,
            "display": null,
            "flex": null,
            "flex_flow": null,
            "grid_area": null,
            "grid_auto_columns": null,
            "grid_auto_flow": null,
            "grid_auto_rows": null,
            "grid_column": null,
            "grid_gap": null,
            "grid_row": null,
            "grid_template_areas": null,
            "grid_template_columns": null,
            "grid_template_rows": null,
            "height": null,
            "justify_content": null,
            "justify_items": null,
            "left": null,
            "margin": null,
            "max_height": null,
            "max_width": null,
            "min_height": null,
            "min_width": null,
            "object_fit": null,
            "object_position": null,
            "order": null,
            "overflow": null,
            "overflow_x": null,
            "overflow_y": null,
            "padding": null,
            "right": null,
            "top": null,
            "visibility": null,
            "width": null
          }
        },
        "f89339150df442a59f56af127b31712e": {
          "model_module": "@jupyter-widgets/controls",
          "model_name": "ProgressStyleModel",
          "model_module_version": "1.5.0",
          "state": {
            "_model_module": "@jupyter-widgets/controls",
            "_model_module_version": "1.5.0",
            "_model_name": "ProgressStyleModel",
            "_view_count": null,
            "_view_module": "@jupyter-widgets/base",
            "_view_module_version": "1.2.0",
            "_view_name": "StyleView",
            "bar_color": null,
            "description_width": ""
          }
        },
        "d3b3438c1854447f94079367fbd53f55": {
          "model_module": "@jupyter-widgets/base",
          "model_name": "LayoutModel",
          "model_module_version": "1.2.0",
          "state": {
            "_model_module": "@jupyter-widgets/base",
            "_model_module_version": "1.2.0",
            "_model_name": "LayoutModel",
            "_view_count": null,
            "_view_module": "@jupyter-widgets/base",
            "_view_module_version": "1.2.0",
            "_view_name": "LayoutView",
            "align_content": null,
            "align_items": null,
            "align_self": null,
            "border": null,
            "bottom": null,
            "display": null,
            "flex": null,
            "flex_flow": null,
            "grid_area": null,
            "grid_auto_columns": null,
            "grid_auto_flow": null,
            "grid_auto_rows": null,
            "grid_column": null,
            "grid_gap": null,
            "grid_row": null,
            "grid_template_areas": null,
            "grid_template_columns": null,
            "grid_template_rows": null,
            "height": null,
            "justify_content": null,
            "justify_items": null,
            "left": null,
            "margin": null,
            "max_height": null,
            "max_width": null,
            "min_height": null,
            "min_width": null,
            "object_fit": null,
            "object_position": null,
            "order": null,
            "overflow": null,
            "overflow_x": null,
            "overflow_y": null,
            "padding": null,
            "right": null,
            "top": null,
            "visibility": null,
            "width": null
          }
        },
        "9e4365f94610488faedb8943253a4383": {
          "model_module": "@jupyter-widgets/controls",
          "model_name": "DescriptionStyleModel",
          "model_module_version": "1.5.0",
          "state": {
            "_model_module": "@jupyter-widgets/controls",
            "_model_module_version": "1.5.0",
            "_model_name": "DescriptionStyleModel",
            "_view_count": null,
            "_view_module": "@jupyter-widgets/base",
            "_view_module_version": "1.2.0",
            "_view_name": "StyleView",
            "description_width": ""
          }
        }
      }
    }
  },
  "cells": [
    {
      "cell_type": "code",
      "execution_count": null,
      "metadata": {
        "id": "1Twgg1E1lJOD",
        "colab": {
          "base_uri": "https://localhost:8080/"
        },
        "outputId": "1edc52e9-0a06-4175-de19-25cb82b1967c"
      },
      "outputs": [
        {
          "output_type": "stream",
          "name": "stdout",
          "text": [
            "  Preparing metadata (setup.py) ... \u001b[?25l\u001b[?25hdone\n",
            "\u001b[2K     \u001b[90m━━━━━━━━━━━━━━━━━━━━━━━━━━━━━━━━━━━━━━━━\u001b[0m \u001b[32m981.5/981.5 kB\u001b[0m \u001b[31m18.7 MB/s\u001b[0m eta \u001b[36m0:00:00\u001b[0m\n",
            "\u001b[?25h  Preparing metadata (setup.py) ... \u001b[?25l\u001b[?25hdone\n",
            "\u001b[2K     \u001b[90m━━━━━━━━━━━━━━━━━━━━━━━━━━━━━━━━━━━━━━━━\u001b[0m \u001b[32m149.4/149.4 kB\u001b[0m \u001b[31m10.9 MB/s\u001b[0m eta \u001b[36m0:00:00\u001b[0m\n",
            "\u001b[2K   \u001b[90m━━━━━━━━━━━━━━━━━━━━━━━━━━━━━━━━━━━━━━━━\u001b[0m \u001b[32m1.0/1.0 MB\u001b[0m \u001b[31m34.3 MB/s\u001b[0m eta \u001b[36m0:00:00\u001b[0m\n",
            "\u001b[2K   \u001b[90m━━━━━━━━━━━━━━━━━━━━━━━━━━━━━━━━━━━━━━━━\u001b[0m \u001b[32m454.8/454.8 kB\u001b[0m \u001b[31m27.1 MB/s\u001b[0m eta \u001b[36m0:00:00\u001b[0m\n",
            "\u001b[2K   \u001b[90m━━━━━━━━━━━━━━━━━━━━━━━━━━━━━━━━━━━━━━━━\u001b[0m \u001b[32m244.8/244.8 kB\u001b[0m \u001b[31m17.1 MB/s\u001b[0m eta \u001b[36m0:00:00\u001b[0m\n",
            "\u001b[2K   \u001b[90m━━━━━━━━━━━━━━━━━━━━━━━━━━━━━━━━━━━━━━━━\u001b[0m \u001b[32m1.7/1.7 MB\u001b[0m \u001b[31m39.3 MB/s\u001b[0m eta \u001b[36m0:00:00\u001b[0m\n",
            "\u001b[2K   \u001b[90m━━━━━━━━━━━━━━━━━━━━━━━━━━━━━━━━━━━━━━━━\u001b[0m \u001b[32m50.9/50.9 kB\u001b[0m \u001b[31m3.9 MB/s\u001b[0m eta \u001b[36m0:00:00\u001b[0m\n",
            "\u001b[2K   \u001b[90m━━━━━━━━━━━━━━━━━━━━━━━━━━━━━━━━━━━━━━━━\u001b[0m \u001b[32m2.5/2.5 MB\u001b[0m \u001b[31m28.0 MB/s\u001b[0m eta \u001b[36m0:00:00\u001b[0m\n",
            "\u001b[2K   \u001b[90m━━━━━━━━━━━━━━━━━━━━━━━━━━━━━━━━━━━━━━━━\u001b[0m \u001b[32m411.6/411.6 kB\u001b[0m \u001b[31m18.1 MB/s\u001b[0m eta \u001b[36m0:00:00\u001b[0m\n",
            "\u001b[2K   \u001b[90m━━━━━━━━━━━━━━━━━━━━━━━━━━━━━━━━━━━━━━━━\u001b[0m \u001b[32m85.4/85.4 kB\u001b[0m \u001b[31m4.7 MB/s\u001b[0m eta \u001b[36m0:00:00\u001b[0m\n",
            "\u001b[2K   \u001b[90m━━━━━━━━━━━━━━━━━━━━━━━━━━━━━━━━━━━━━━━━\u001b[0m \u001b[32m1.2/1.2 MB\u001b[0m \u001b[31m31.4 MB/s\u001b[0m eta \u001b[36m0:00:00\u001b[0m\n",
            "\u001b[2K   \u001b[90m━━━━━━━━━━━━━━━━━━━━━━━━━━━━━━━━━━━━━━━━\u001b[0m \u001b[32m586.9/586.9 kB\u001b[0m \u001b[31m39.7 MB/s\u001b[0m eta \u001b[36m0:00:00\u001b[0m\n",
            "\u001b[2K   \u001b[90m━━━━━━━━━━━━━━━━━━━━━━━━━━━━━━━━━━━━━━━━\u001b[0m \u001b[32m274.9/274.9 kB\u001b[0m \u001b[31m24.0 MB/s\u001b[0m eta \u001b[36m0:00:00\u001b[0m\n",
            "\u001b[2K   \u001b[90m━━━━━━━━━━━━━━━━━━━━━━━━━━━━━━━━━━━━━━━━\u001b[0m \u001b[32m3.1/3.1 MB\u001b[0m \u001b[31m83.4 MB/s\u001b[0m eta \u001b[36m0:00:00\u001b[0m\n",
            "\u001b[2K   \u001b[90m━━━━━━━━━━━━━━━━━━━━━━━━━━━━━━━━━━━━━━━━\u001b[0m \u001b[32m62.9/62.9 kB\u001b[0m \u001b[31m5.6 MB/s\u001b[0m eta \u001b[36m0:00:00\u001b[0m\n",
            "\u001b[2K   \u001b[90m━━━━━━━━━━━━━━━━━━━━━━━━━━━━━━━━━━━━━━━━\u001b[0m \u001b[32m434.9/434.9 kB\u001b[0m \u001b[31m23.5 MB/s\u001b[0m eta \u001b[36m0:00:00\u001b[0m\n",
            "\u001b[2K   \u001b[90m━━━━━━━━━━━━━━━━━━━━━━━━━━━━━━━━━━━━━━━━\u001b[0m \u001b[32m2.1/2.1 MB\u001b[0m \u001b[31m75.9 MB/s\u001b[0m eta \u001b[36m0:00:00\u001b[0m\n",
            "\u001b[2K   \u001b[90m━━━━━━━━━━━━━━━━━━━━━━━━━━━━━━━━━━━━━━━━\u001b[0m \u001b[32m48.9/48.9 kB\u001b[0m \u001b[31m4.5 MB/s\u001b[0m eta \u001b[36m0:00:00\u001b[0m\n",
            "\u001b[2K   \u001b[90m━━━━━━━━━━━━━━━━━━━━━━━━━━━━━━━━━━━━━━━━\u001b[0m \u001b[32m298.0/298.0 kB\u001b[0m \u001b[31m24.9 MB/s\u001b[0m eta \u001b[36m0:00:00\u001b[0m\n",
            "\u001b[2K   \u001b[90m━━━━━━━━━━━━━━━━━━━━━━━━━━━━━━━━━━━━━━━━\u001b[0m \u001b[32m114.6/114.6 kB\u001b[0m \u001b[31m7.5 MB/s\u001b[0m eta \u001b[36m0:00:00\u001b[0m\n",
            "\u001b[?25h  Building wheel for google-search-results (setup.py) ... \u001b[?25l\u001b[?25hdone\n",
            "  Building wheel for langdetect (setup.py) ... \u001b[?25l\u001b[?25hdone\n"
          ]
        }
      ],
      "source": [
        "pip install langchain google-search-results serpapi openai pinecone-client unstructured -qU langchain-openai -U langchain-community"
      ]
    },
    {
      "cell_type": "markdown",
      "source": [
        "## Fetching and processing articles"
      ],
      "metadata": {
        "id": "6JtUwoUy_dKI"
      }
    },
    {
      "cell_type": "markdown",
      "source": [
        "Fetchin news articles related to a company and converting them into chunks"
      ],
      "metadata": {
        "id": "nqCecis6_QIz"
      }
    },
    {
      "cell_type": "code",
      "source": [
        "from langchain.document_loaders import TextLoader\n",
        "from langchain.agents import initialize_agent, Tool, AgentType\n",
        "\n",
        "import os"
      ],
      "metadata": {
        "id": "PlDixjekKlg8"
      },
      "execution_count": null,
      "outputs": []
    },
    {
      "cell_type": "code",
      "source": [
        "os.environ[\"AZURE_OPENAI_API_KEY\"] = \"DTN1wiFDfM0FczleBcGBCVkOy7Clf6mEsRDf7KRDXNDcqUItGTKqJQQJ99ALACHYHv6XJ3w3AAAAACOGIxqq\"\n",
        "os.environ[\"AZURE_OPENAI_ENDPOINT\"] = 'https://delvi-m4wlt8x5-eastus2.cognitiveservices.azure.com/'\n",
        "os.environ[\"AZURE_OPENAI_DEPLOYMENT_NAME\"] = 'gpt-35-turbo-16k'\n",
        "os.environ[\"AZURE_OPENAI_API_VERSION\"] = '2024-02-01'\n",
        "os.environ[\"AZURE_OPENAI_EMBEDDING_DEPLOYMENT_NAME\"] = \"text-embedding-ada-002\"\n",
        "\n",
        "\n",
        "\n",
        "from langchain_openai import AzureChatOpenAI\n",
        "\n",
        "model = AzureChatOpenAI(\n",
        "    azure_endpoint=os.environ[\"AZURE_OPENAI_ENDPOINT\"],\n",
        "    azure_deployment=os.environ[\"AZURE_OPENAI_DEPLOYMENT_NAME\"],\n",
        "    openai_api_version=os.environ[\"AZURE_OPENAI_API_VERSION\"],\n",
        ")"
      ],
      "metadata": {
        "id": "OAGK3-68TCVj"
      },
      "execution_count": null,
      "outputs": []
    },
    {
      "cell_type": "code",
      "source": [
        "from serpapi import GoogleSearch\n",
        "\n",
        "api_key = 'b5d665bfd0fd4faca880d2e76ba14407f1640b71cc428b68a5d001d25af45e98'\n",
        "\n",
        "def get_articles_from_serpapi(query):\n",
        "    search = GoogleSearch({\n",
        "        \"q\": query,\n",
        "        \"api_key\": api_key\n",
        "    })\n",
        "    results = search.get_dict()\n",
        "\n",
        "    articles = []\n",
        "    snippets = []\n",
        "    for result in results.get('related_questions', []):\n",
        "        articles.append(result['link'])  # Collect the URLs of the articles\n",
        "        snippets.append(result['snippet'])  # Collect the snippets of the articles\n",
        "\n",
        "    if len(articles) < 5:\n",
        "      return articles,snippets\n",
        "    else:\n",
        "      return articles[:5],snippets[:5]\n"
      ],
      "metadata": {
        "id": "plqj4O4VRerC"
      },
      "execution_count": null,
      "outputs": []
    },
    {
      "cell_type": "code",
      "source": [
        "query = \"Recent financial news of google shares\"\n",
        "urls,snippets = get_articles_from_serpapi(query)"
      ],
      "metadata": {
        "id": "UPMOZh9HQA81"
      },
      "execution_count": null,
      "outputs": []
    },
    {
      "cell_type": "code",
      "source": [
        "from langchain.document_loaders import UnstructuredURLLoader\n",
        "from langchain.text_splitter import RecursiveCharacterTextSplitter\n",
        "\n",
        "def url_document_splitting(url,data):\n",
        "  loader = UnstructuredURLLoader(urls=[url])\n",
        "  documents = loader.load()\n",
        "\n",
        "  r_splitter = RecursiveCharacterTextSplitter(\n",
        "      separators=[\"\\n\\n\", \"\\n\", \" \"],\n",
        "      chunk_size=200,\n",
        "      chunk_overlap=0,\n",
        "  )\n",
        "\n",
        "  docs = r_splitter.split_documents(documents)\n",
        "  chunks = []\n",
        "  for items in docs:\n",
        "    chunks.append(items.page_content)\n",
        "\n",
        "  data = data + chunks\n",
        "  return data\n",
        "\n",
        "data = []\n",
        "for url in urls:\n",
        "  data = url_document_splitting(url,data)\n",
        "\n",
        "data = data + snippets"
      ],
      "metadata": {
        "id": "MUn2kPE_XveA"
      },
      "execution_count": null,
      "outputs": []
    },
    {
      "cell_type": "markdown",
      "source": [
        "## Embedding and VectorDB"
      ],
      "metadata": {
        "id": "QiWOmb_w_lbI"
      }
    },
    {
      "cell_type": "markdown",
      "source": [
        "Embed the chunks above and store them in pinecone"
      ],
      "metadata": {
        "id": "xptEDOpR_pES"
      }
    },
    {
      "cell_type": "code",
      "source": [
        "import pinecone\n",
        "\n",
        "os.environ[\"PINECONE_API_KEY\"] = \"pcsk_4CgvP2_KTuQTRYwTkxjKvYg9wzNZWNG1vt7yUyvVU3QDALxxAgptFm2EHbkXatMFbYu2Je\"\n",
        "pinecone_api_key = os.environ[\"PINECONE_API_KEY\"]\n",
        "ps = pinecone.Pinecone(api_key = pinecone_api_key )"
      ],
      "metadata": {
        "id": "_cNp4-t4Le5h"
      },
      "execution_count": null,
      "outputs": []
    },
    {
      "cell_type": "code",
      "source": [
        "from openai import AzureOpenAI\n",
        "\n",
        "client = AzureOpenAI(\n",
        "    azure_endpoint= os.environ[\"AZURE_OPENAI_ENDPOINT\"],\n",
        "    api_key= os.environ[\"AZURE_OPENAI_API_KEY\"],\n",
        "    api_version = os.environ[\"AZURE_OPENAI_API_VERSION\"]\n",
        ")\n"
      ],
      "metadata": {
        "id": "2SsTd4jRNMOG"
      },
      "execution_count": null,
      "outputs": []
    },
    {
      "cell_type": "code",
      "source": [
        "import pandas as pd\n",
        "\n",
        "df = pd.DataFrame(data,columns=['text'])\n",
        "df = df.reset_index()\n",
        "\n",
        "def embedding_function(text):\n",
        "    response = client.embeddings.create(\n",
        "        input = text,\n",
        "        model= \"text-embedding-ada-002\"\n",
        "    )\n",
        "\n",
        "    return response.data[0].embedding\n",
        "\n",
        "df[\"embeddings\"] = df[\"text\"].apply(embedding_function)"
      ],
      "metadata": {
        "id": "Rfa8-4EsP7Mf"
      },
      "execution_count": null,
      "outputs": []
    },
    {
      "cell_type": "code",
      "source": [
        "from pinecone import ServerlessSpec\n",
        "\n",
        "pinecone_index_name = \"finance-finder\"\n",
        "\n",
        "# ps.create_index(\n",
        "#     name=pinecone_index_name,\n",
        "#     dimension=1536,\n",
        "#     metric=\"cosine\",\n",
        "#     spec=ServerlessSpec(\n",
        "#       cloud=\"aws\",\n",
        "#       region=\"us-east-1\"\n",
        "#     )\n",
        "# )"
      ],
      "metadata": {
        "id": "oFWRQrXdQiq7"
      },
      "execution_count": null,
      "outputs": []
    },
    {
      "cell_type": "code",
      "source": [
        "pinecone_index = ps.Index(pinecone_index_name)"
      ],
      "metadata": {
        "id": "QDowbpPzRsdw"
      },
      "execution_count": null,
      "outputs": []
    },
    {
      "cell_type": "code",
      "source": [
        "# from tqdm.auto import tqdm\n",
        "\n",
        "# batch_size = 1000\n",
        "\n",
        "# for i in tqdm(range(0, len(df[\"text\"]), batch_size)):\n",
        "#     i_end = min(i + batch_size, len(df[\"text\"]))\n",
        "#     ids = [str(x) for x in range(i, i_end)]\n",
        "#     metadata = [{\"text\": text} for text in df[\"text\"][i:i_end]]\n",
        "#     embedding_text_batch = df[\"embeddings\"][i:i_end].tolist()\n",
        "#     records = zip(ids, embedding_text_batch, metadata)\n",
        "#     pinecone_index.upsert(vectors=records)\n",
        "\n",
        "# pinecone_index.describe_index_stats()"
      ],
      "metadata": {
        "colab": {
          "base_uri": "https://localhost:8080/",
          "height": 243,
          "referenced_widgets": [
            "45ec002008804368ac02ec4c86fddf48",
            "4e6acb7190dd49028625082ed4622a74",
            "c3d0f37c63ce49239959c22cc3547b3d",
            "f7104aa367b84346914b616f6629d137",
            "7deacd5965454bc7ab12c036ef280dee",
            "0a31e1a805364fa2b0a35499fb2af57d",
            "32dc3394725b4c3fa3f91f901c89a95d",
            "7289601f73e342059f0244b85edb3f09",
            "f89339150df442a59f56af127b31712e",
            "d3b3438c1854447f94079367fbd53f55",
            "9e4365f94610488faedb8943253a4383"
          ]
        },
        "id": "Bqcwpg3CR5s_",
        "outputId": "b82f882e-94bf-4188-d5a1-6aace7978b65"
      },
      "execution_count": null,
      "outputs": [
        {
          "output_type": "display_data",
          "data": {
            "text/plain": [
              "  0%|          | 0/1 [00:00<?, ?it/s]"
            ],
            "application/vnd.jupyter.widget-view+json": {
              "version_major": 2,
              "version_minor": 0,
              "model_id": "45ec002008804368ac02ec4c86fddf48"
            }
          },
          "metadata": {}
        },
        {
          "output_type": "error",
          "ename": "NameError",
          "evalue": "name 'pinecone_index' is not defined",
          "traceback": [
            "\u001b[0;31m---------------------------------------------------------------------------\u001b[0m",
            "\u001b[0;31mNameError\u001b[0m                                 Traceback (most recent call last)",
            "\u001b[0;32m<ipython-input-13-f46bbbb99cb9>\u001b[0m in \u001b[0;36m<cell line: 5>\u001b[0;34m()\u001b[0m\n\u001b[1;32m      9\u001b[0m     \u001b[0membedding_text_batch\u001b[0m \u001b[0;34m=\u001b[0m \u001b[0mdf\u001b[0m\u001b[0;34m[\u001b[0m\u001b[0;34m\"embeddings\"\u001b[0m\u001b[0;34m]\u001b[0m\u001b[0;34m[\u001b[0m\u001b[0mi\u001b[0m\u001b[0;34m:\u001b[0m\u001b[0mi_end\u001b[0m\u001b[0;34m]\u001b[0m\u001b[0;34m.\u001b[0m\u001b[0mtolist\u001b[0m\u001b[0;34m(\u001b[0m\u001b[0;34m)\u001b[0m\u001b[0;34m\u001b[0m\u001b[0;34m\u001b[0m\u001b[0m\n\u001b[1;32m     10\u001b[0m     \u001b[0mrecords\u001b[0m \u001b[0;34m=\u001b[0m \u001b[0mzip\u001b[0m\u001b[0;34m(\u001b[0m\u001b[0mids\u001b[0m\u001b[0;34m,\u001b[0m \u001b[0membedding_text_batch\u001b[0m\u001b[0;34m,\u001b[0m \u001b[0mmetadata\u001b[0m\u001b[0;34m)\u001b[0m\u001b[0;34m\u001b[0m\u001b[0;34m\u001b[0m\u001b[0m\n\u001b[0;32m---> 11\u001b[0;31m     \u001b[0mpinecone_index\u001b[0m\u001b[0;34m.\u001b[0m\u001b[0mupsert\u001b[0m\u001b[0;34m(\u001b[0m\u001b[0mvectors\u001b[0m\u001b[0;34m=\u001b[0m\u001b[0mrecords\u001b[0m\u001b[0;34m)\u001b[0m\u001b[0;34m\u001b[0m\u001b[0;34m\u001b[0m\u001b[0m\n\u001b[0m\u001b[1;32m     12\u001b[0m \u001b[0;34m\u001b[0m\u001b[0m\n\u001b[1;32m     13\u001b[0m \u001b[0mpinecone_index\u001b[0m\u001b[0;34m.\u001b[0m\u001b[0mdescribe_index_stats\u001b[0m\u001b[0;34m(\u001b[0m\u001b[0;34m)\u001b[0m\u001b[0;34m\u001b[0m\u001b[0;34m\u001b[0m\u001b[0m\n",
            "\u001b[0;31mNameError\u001b[0m: name 'pinecone_index' is not defined"
          ]
        }
      ]
    },
    {
      "cell_type": "code",
      "source": [
        "query = \"google\"\n",
        "\n",
        "user_query = embedding_function(query)\n",
        "\n",
        "pinecone_answer = pinecone_index.query(\n",
        "    vector=user_query,\n",
        "    top_k=3,\n",
        "    include_metadata=True\n",
        ")\n",
        "\n",
        "# Display the results\n",
        "for result in pinecone_answer[\"matches\"]:\n",
        "    print(f\"{round(result['score'], 2)}, {result['metadata']['text']}\")\n",
        "    print(\"-\" * 120)"
      ],
      "metadata": {
        "colab": {
          "base_uri": "https://localhost:8080/"
        },
        "id": "6_uyjOuoSUDm",
        "outputId": "ab31076e-2d4d-4e5b-e38f-b8f94da49429"
      },
      "execution_count": null,
      "outputs": [
        {
          "output_type": "stream",
          "name": "stdout",
          "text": [
            "0.8, Stocks Online\n",
            "------------------------------------------------------------------------------------------------------------------------\n",
            "0.8, Snapshot\n",
            "------------------------------------------------------------------------------------------------------------------------\n",
            "0.79, GOOGL stock forecasts by analyst\n",
            "------------------------------------------------------------------------------------------------------------------------\n"
          ]
        }
      ]
    },
    {
      "cell_type": "markdown",
      "source": [
        "## AI agents to get finance data"
      ],
      "metadata": {
        "id": "XrJlvlZXS8zC"
      }
    },
    {
      "cell_type": "code",
      "source": [
        "from langchain_community.tools.google_finance import GoogleFinanceQueryRun\n",
        "from langchain_community.utilities.google_finance import GoogleFinanceAPIWrapper\n",
        "\n",
        "os.environ[\"SERPAPI_API_KEY\"] = \"b5d665bfd0fd4faca880d2e76ba14407f1640b71cc428b68a5d001d25af45e98\"\n",
        "finance = GoogleFinanceQueryRun(api_wrapper=GoogleFinanceAPIWrapper())"
      ],
      "metadata": {
        "id": "KJGozxKrSs52"
      },
      "execution_count": null,
      "outputs": []
    },
    {
      "cell_type": "code",
      "source": [
        "print(finance.run(\"Tata motors\"))"
      ],
      "metadata": {
        "colab": {
          "base_uri": "https://localhost:8080/"
        },
        "id": "RDxtksm_A0xK",
        "outputId": "66ef64c7-fb8b-4b39-8efd-516f0062eacb"
      },
      "execution_count": null,
      "outputs": [
        {
          "output_type": "stream",
          "name": "stdout",
          "text": [
            "\n",
            "Query: Tata motors\n",
            "stock: TATAMOTORS:NSE\n",
            "price: ₹789.00\n",
            "percentage: 3.13\n",
            "movement: Up\n",
            "us: price = 42732.13, movement = Up\n",
            "europe: price = 19906.08, movement = Down\n",
            "asia: price = 39894.54, movement = Down\n",
            "\n"
          ]
        }
      ]
    },
    {
      "cell_type": "code",
      "source": [
        "finance_tool = Tool(\n",
        "    name = \"Google Finance\",\n",
        "    func = finance.run,\n",
        "    description = \"Fetches the stock market metrics related to a particular company\"\n",
        ")\n",
        "\n",
        "tools = [finance_tool]\n",
        "\n",
        "agent = initialize_agent(\n",
        "    tools, model, agent=AgentType.ZERO_SHOT_REACT_DESCRIPTION, verbose=True\n",
        ")"
      ],
      "metadata": {
        "colab": {
          "base_uri": "https://localhost:8080/"
        },
        "id": "l1y3LmED__7o",
        "outputId": "0f6bdd87-9d4c-4686-e79b-009fea0837f9"
      },
      "execution_count": null,
      "outputs": [
        {
          "output_type": "stream",
          "name": "stderr",
          "text": [
            "<ipython-input-19-dc893594a783>:9: LangChainDeprecationWarning: LangChain agents will continue to be supported, but it is recommended for new use cases to be built with LangGraph. LangGraph offers a more flexible and full-featured framework for building agents, including support for tool-calling, persistence of state, and human-in-the-loop workflows. For details, refer to the `LangGraph documentation <https://langchain-ai.github.io/langgraph/>`_ as well as guides for `Migrating from AgentExecutor <https://python.langchain.com/docs/how_to/migrate_agent/>`_ and LangGraph's `Pre-built ReAct agent <https://langchain-ai.github.io/langgraph/how-tos/create-react-agent/>`_.\n",
            "  agent = initialize_agent(\n"
          ]
        }
      ]
    },
    {
      "cell_type": "code",
      "source": [
        "agent.run(\"What is the movement pattern of the Tata motors shares\")"
      ],
      "metadata": {
        "colab": {
          "base_uri": "https://localhost:8080/",
          "height": 472
        },
        "id": "wYkpaB75A0KL",
        "outputId": "9ad2fa7d-f3b2-4abb-ea54-371010d3b316"
      },
      "execution_count": null,
      "outputs": [
        {
          "output_type": "stream",
          "name": "stderr",
          "text": [
            "<ipython-input-22-60226612e79d>:1: LangChainDeprecationWarning: The method `Chain.run` was deprecated in langchain 0.1.0 and will be removed in 1.0. Use :meth:`~invoke` instead.\n",
            "  agent.run(\"What is the movement pattern of the Tata motors shares\")\n"
          ]
        },
        {
          "output_type": "stream",
          "name": "stdout",
          "text": [
            "\n",
            "\n",
            "\u001b[1m> Entering new AgentExecutor chain...\u001b[0m\n",
            "\u001b[32;1m\u001b[1;3mI need to fetch the stock market metrics related to Tata Motors in order to determine its movement pattern.\n",
            "Action: Google Finance\n",
            "Action Input: 'Tata Motors'\u001b[0m\n",
            "Observation: \u001b[36;1m\u001b[1;3m\n",
            "Query: 'Tata Motors'\n",
            "No summary information\n",
            "us: price = 42732.13, movement = Up\n",
            "europe: price = 19906.08, movement = Down\n",
            "asia: price = 39894.54, movement = Down\n",
            "\u001b[0m\n",
            "Thought:\u001b[32;1m\u001b[1;3mI have fetched the stock market metrics related to Tata Motors. The movement pattern of Tata Motors shares is as follows:\n",
            "- In the US market, the price has increased and the movement is up.\n",
            "- In the European market, the price has decreased and the movement is down.\n",
            "- In the Asian market, the price has decreased and the movement is down.\n",
            "\n",
            "Final Answer: The movement pattern of Tata Motors shares is mixed, with an upward movement in the US market and downward movements in the European and Asian markets.\u001b[0m\n",
            "\n",
            "\u001b[1m> Finished chain.\u001b[0m\n"
          ]
        },
        {
          "output_type": "execute_result",
          "data": {
            "text/plain": [
              "'The movement pattern of Tata Motors shares is mixed, with an upward movement in the US market and downward movements in the European and Asian markets.'"
            ],
            "application/vnd.google.colaboratory.intrinsic+json": {
              "type": "string"
            }
          },
          "metadata": {},
          "execution_count": 22
        }
      ]
    },
    {
      "cell_type": "code",
      "source": [],
      "metadata": {
        "id": "lvOEvH33BGPn"
      },
      "execution_count": null,
      "outputs": []
    }
  ]
}
